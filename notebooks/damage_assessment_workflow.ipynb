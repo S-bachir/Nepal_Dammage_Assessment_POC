{
 "cells": [
  {
   "cell_type": "markdown",
   "id": "78062afa",
   "metadata": {},
   "source": [
    "# Nepal Earthquake Damage Assessment Workflow\n",
    "\n",
    "This notebook provides a complete workflow for post-disaster damage assessment using satellite imagery and GeoAI techniques.\n",
    "\n",
    "## Event Information\n",
    "- **Date**: November 3, 2023\n",
    "- **Magnitude**: 6.4 ML (5.7 Mw)\n",
    "- **Epicenter**: Ramidanda, Jajarkot District (28.84°N, 82.19°E)\n",
    "- **Affected Districts**: Jajarkot, Rukum West, Salyan"
   ]
  },
  {
   "cell_type": "markdown",
   "id": "f75bf37b",
   "metadata": {},
   "source": [
    "## 1. Setup and Configuration"
   ]
  },
  {
   "cell_type": "code",
   "execution_count": 10,
   "id": "740eaf20",
   "metadata": {},
   "outputs": [],
   "source": [
    "#issue just for me\n",
    "import os\n",
    "# choose a backend that exists; e.g. for non-interactive scripts:\n",
    "os.environ['MPLBACKEND'] = 'agg'    \n",
    "# or for interactive windows:\n",
    "# os.environ['MPLBACKEND'] = 'tkagg'\n",
    "\n",
    "import matplotlib.pyplot as plt\n"
   ]
  },
  {
   "cell_type": "code",
   "execution_count": 4,
   "id": "b6afe5d2",
   "metadata": {},
   "outputs": [
    {
     "name": "stderr",
     "output_type": "stream",
     "text": [
      "WARNING: Error parsing dependencies of certifi: [Errno 2] No such file or directory: 'c:\\\\users\\\\wb636273\\\\.conda\\\\envs\\\\capexdx\\\\lib\\\\site-packages\\\\certifi-2025.4.26.dist-info\\\\METADATA'\n"
     ]
    },
    {
     "name": "stdout",
     "output_type": "stream",
     "text": [
      "Note: you may need to restart the kernel to use updated packages.\n",
      "Python executable: c:\\Users\\wb636273\\.conda\\envs\\capexdx\\python.exe\n",
      "matplotlib version: 3.9.4\n",
      "matplotlib path:    c:\\Users\\wb636273\\.conda\\envs\\capexdx\\lib\\site-packages\\matplotlib\\__init__.py\n",
      "pyplot imported ok: <module 'matplotlib.pyplot' from 'c:\\\\Users\\\\wb636273\\\\.conda\\\\envs\\\\capexdx\\\\lib\\\\site-packages\\\\matplotlib\\\\pyplot.py'>\n"
     ]
    }
   ],
   "source": [
    "# 1) Force-install into the active kernel\n",
    "%pip install matplotlib seaborn --quiet\n",
    "\n",
    "# 2) Restart the kernel (after the install finishes), then in a fresh cell:\n",
    "\n",
    "import sys\n",
    "print(\"Python executable:\", sys.executable)\n",
    "\n",
    "# 3) Check that matplotlib truly imports and you can see where it lives:\n",
    "import matplotlib\n",
    "print(\"matplotlib version:\", matplotlib.__version__)\n",
    "print(\"matplotlib path:   \", matplotlib.__file__)\n",
    "\n",
    "import matplotlib.pyplot as plt\n",
    "print(\"pyplot imported ok:\", plt)\n"
   ]
  },
  {
   "cell_type": "code",
   "execution_count": 9,
   "id": "663e2ea4",
   "metadata": {},
   "outputs": [
    {
     "name": "stdout",
     "output_type": "stream",
     "text": [
      "Setup complete!\n"
     ]
    }
   ],
   "source": [
    "# Import required libraries\n",
    "import os\n",
    "import sys\n",
    "import json\n",
    "import warnings\n",
    "from pathlib import Path\n",
    "import numpy as np\n",
    "import pandas as pd\n",
    "import geopandas as gpd\n",
    "import matplotlib.pyplot as plt\n",
    "import seaborn as sns\n",
    "from IPython.display import display, HTML, Image\n",
    "warnings.filterwarnings('ignore')\n",
    "\n",
    "# Set up paths\n",
    "SCRIPT_DIR = Path('./scripts')\n",
    "sys.path.append(str(SCRIPT_DIR))\n",
    "\n",
    "# Import custom modules\n",
    "from scripts.data_acquisition import EarthquakeDataAcquisition\n",
    "from scripts.preprocessing import ImagePreprocessor\n",
    "from scripts.damage_analysis import DamageAnalyzer\n",
    "from scripts.visualization import DamageVisualizer\n",
    "from scripts.reporting import ReportGenerator\n",
    "\n",
    "print(\"Setup complete!\")"
   ]
  },
  {
   "cell_type": "code",
   "execution_count": null,
   "id": "ebcd9d34",
   "metadata": {},
   "outputs": [],
   "source": []
  },
  {
   "cell_type": "markdown",
   "id": "4ff2bac9",
   "metadata": {},
   "source": [
    "## 2. Configuration\n",
    "\n",
    "Create or load the configuration file with earthquake parameters and data paths."
   ]
  },
  {
   "cell_type": "code",
   "execution_count": 10,
   "id": "7658d98b",
   "metadata": {},
   "outputs": [
    {
     "name": "stdout",
     "output_type": "stream",
     "text": [
      "Configuration saved!\n",
      "Earthquake Date: 2023-11-03\n",
      "Magnitude: 6.4\n",
      "Epicenter: [82.19, 28.84]\n"
     ]
    }
   ],
   "source": [
    "# Configuration\n",
    "config = {\n",
    "    \"data_dir\": \"./data\",\n",
    "    \"earthquake\": {\n",
    "        \"date\": \"2023-11-03\",\n",
    "        \"epicenter\": [82.19, 28.84],\n",
    "        \"magnitude\": 6.4,\n",
    "        \"affected_districts\": [\"Jajarkot\", \"Rukum West\", \"Salyan\"]\n",
    "    },\n",
    "    \"date_ranges\": {\n",
    "        \"pre_start\": \"2023-09-01\",\n",
    "        \"pre_end\": \"2023-11-02\",\n",
    "        \"post_start\": \"2023-11-04\",\n",
    "        \"post_end\": \"2023-12-15\"\n",
    "    },\n",
    "    \"aoi_buffer_km\": 50,\n",
    "    \"cloud_threshold\": 20,\n",
    "    \"apis\": {\n",
    "        \"planet_api_key\": \"\",  # Add your API key if available\n",
    "        \"maxar_api_key\": \"\",   # Add your API key if available\n",
    "        \"copernicus_user\": \"\",\n",
    "        \"copernicus_pass\": \"\"\n",
    "    }\n",
    "}\n",
    "\n",
    "# Save configuration\n",
    "with open('config.json', 'w') as f:\n",
    "    json.dump(config, f, indent=4)\n",
    "\n",
    "print(\"Configuration saved!\")\n",
    "print(f\"Earthquake Date: {config['earthquake']['date']}\")\n",
    "print(f\"Magnitude: {config['earthquake']['magnitude']}\")\n",
    "print(f\"Epicenter: {config['earthquake']['epicenter']}\")"
   ]
  },
  {
   "cell_type": "markdown",
   "id": "4a4364a6",
   "metadata": {},
   "source": [
    "## 3. Data Acquisition\n",
    "\n",
    "Download and prepare satellite imagery from multiple sources."
   ]
  },
  {
   "cell_type": "code",
   "execution_count": 18,
   "id": "79ef8549",
   "metadata": {},
   "outputs": [
    {
     "data": {
      "text/html": [
       "<p>To authorize access needed by Earth Engine, open the following\n",
       "        URL in a web browser and follow the instructions:</p>\n",
       "        <p><a href=https://code.earthengine.google.com/client-auth?scopes=https%3A//www.googleapis.com/auth/earthengine%20https%3A//www.googleapis.com/auth/cloud-platform%20https%3A//www.googleapis.com/auth/drive%20https%3A//www.googleapis.com/auth/devstorage.full_control&request_id=pkTJ93uks05LXVSXaGyZs7hGLJAar-xnecO0t13Jti4&tc=J2l1vOJXPfuKLVaMA7CfCcQ9JkPEkWKbIaQTqCk_DU4&cc=U8JSH7eOmpre2GU1-L7PC4k3_eDnyOUk3yqbLL4Q0EA>https://code.earthengine.google.com/client-auth?scopes=https%3A//www.googleapis.com/auth/earthengine%20https%3A//www.googleapis.com/auth/cloud-platform%20https%3A//www.googleapis.com/auth/drive%20https%3A//www.googleapis.com/auth/devstorage.full_control&request_id=pkTJ93uks05LXVSXaGyZs7hGLJAar-xnecO0t13Jti4&tc=J2l1vOJXPfuKLVaMA7CfCcQ9JkPEkWKbIaQTqCk_DU4&cc=U8JSH7eOmpre2GU1-L7PC4k3_eDnyOUk3yqbLL4Q0EA</a></p>\n",
       "        <p>The authorization workflow will generate a code, which you should paste in the box below.</p>\n",
       "        "
      ],
      "text/plain": [
       "<IPython.core.display.HTML object>"
      ]
     },
     "metadata": {},
     "output_type": "display_data"
    },
    {
     "name": "stdout",
     "output_type": "stream",
     "text": [
      "\n",
      "Successfully saved authorization token.\n"
     ]
    }
   ],
   "source": [
    "import ee\n",
    "\n",
    "# This will open a browser window so you can sign in to your Google Earth Engine account.\n",
    "ee.Authenticate()  \n",
    "\n",
    "# Once you’ve granted access, initialize the API.\n",
    "ee.Initialize()  \n"
   ]
  },
  {
   "cell_type": "code",
   "execution_count": 19,
   "id": "ce13041a",
   "metadata": {},
   "outputs": [
    {
     "name": "stderr",
     "output_type": "stream",
     "text": [
      "2025-06-27 01:52:38,015 - scripts.data_acquisition - INFO - Google Earth Engine initialized successfully\n",
      "2025-06-27 01:52:38,053 - scripts.data_acquisition - INFO - Created AOI with 50km buffer around epicenter\n"
     ]
    },
    {
     "name": "stdout",
     "output_type": "stream",
     "text": [
      "AOI created with 50km buffer around epicenter\n"
     ]
    },
    {
     "name": "stderr",
     "output_type": "stream",
     "text": [
      "2025-06-27 01:52:39,366 - pyogrio._io - INFO - Created 3 records\n",
      "2025-06-27 01:52:39,369 - scripts.data_acquisition - INFO - Saved district boundaries to data\\aoi\\affected_districts.geojson\n"
     ]
    },
    {
     "name": "stdout",
     "output_type": "stream",
     "text": [
      "\n",
      "Affected districts: ['Jajarkot', 'Rukum West', 'Salyan']\n"
     ]
    }
   ],
   "source": [
    "# Initialize data acquisition\n",
    "acquisition = EarthquakeDataAcquisition('config.json')\n",
    "\n",
    "# Create area of interest\n",
    "aoi = acquisition.create_aoi()\n",
    "print(f\"AOI created with {config['aoi_buffer_km']}km buffer around epicenter\")\n",
    "\n",
    "# Get district boundaries\n",
    "districts = acquisition.get_district_boundaries()\n",
    "print(f\"\\nAffected districts: {list(districts['district'])}\")"
   ]
  },
  {
   "cell_type": "code",
   "execution_count": 20,
   "id": "e359c1f9",
   "metadata": {},
   "outputs": [
    {
     "data": {
      "image/png": "[encoded data removed]",
      "text/plain": [
       "<Figure size 1000x800 with 1 Axes>"
      ]
     },
     "metadata": {},
     "output_type": "display_data"
    }
   ],
   "source": [
    "# Visualize AOI and affected districts\n",
    "fig, ax = plt.subplots(figsize=(10, 8))\n",
    "\n",
    "# Plot districts\n",
    "districts.plot(ax=ax, color='lightblue', edgecolor='black', alpha=0.5)\n",
    "\n",
    "# Plot epicenter\n",
    "epicenter = config['earthquake']['epicenter']\n",
    "ax.plot(epicenter[0], epicenter[1], 'r*', markersize=20, label='Epicenter')\n",
    "\n",
    "# Add labels\n",
    "for idx, row in districts.iterrows():\n",
    "    centroid = row.geometry.centroid\n",
    "    ax.text(centroid.x, centroid.y, row['district'], ha='center', va='center')\n",
    "\n",
    "ax.set_title('Earthquake Affected Area', fontsize=16)\n",
    "ax.set_xlabel('Longitude')\n",
    "ax.set_ylabel('Latitude')\n",
    "ax.legend()\n",
    "plt.tight_layout()\n",
    "plt.show()"
   ]
  },
  {
   "cell_type": "code",
   "execution_count": 22,
   "id": "1ccb0403",
   "metadata": {},
   "outputs": [
    {
     "name": "stderr",
     "output_type": "stream",
     "text": [
      "2025-06-27 01:53:13,272 - scripts.data_acquisition - INFO - Starting data acquisition pipeline for Nepal earthquake assessment\n",
      "2025-06-27 01:53:13,277 - scripts.data_acquisition - INFO - Created AOI with 50km buffer around epicenter\n",
      "2025-06-27 01:53:13,290 - pyogrio._io - INFO - Created 3 records\n",
      "2025-06-27 01:53:13,294 - scripts.data_acquisition - INFO - Saved district boundaries to data\\aoi\\affected_districts.geojson\n",
      "2025-06-27 01:53:13,296 - scripts.data_acquisition - INFO - Collecting pre-earthquake imagery...\n",
      "2025-06-27 01:53:13,297 - scripts.data_acquisition - INFO - Fetching Sentinel-2 data from 2023-09-01 to 2023-11-02\n"
     ]
    },
    {
     "name": "stdout",
     "output_type": "stream",
     "text": [
      "Starting data acquisition...\n",
      "This process will:\n",
      "1. Search for cloud-free imagery\n",
      "2. Create composites for pre and post earthquake periods\n",
      "3. Export imagery to Google Drive\n",
      "4. Download ancillary data (OSM, elevation, population)\n",
      "\n",
      "Note: Large exports may take time to process on Google Earth Engine\n"
     ]
    },
    {
     "name": "stderr",
     "output_type": "stream",
     "text": [
      "2025-06-27 01:53:13,623 - scripts.data_acquisition - INFO - Found 20 Sentinel-2 images\n",
      "2025-06-27 01:53:13,625 - scripts.data_acquisition - INFO - Fetching Landsat data from 2023-09-01 to 2023-11-02\n",
      "2025-06-27 01:53:13,834 - scripts.data_acquisition - INFO - Found 11 Landsat images\n",
      "2025-06-27 01:53:13,836 - scripts.data_acquisition - INFO - Fetching Sentinel-1 SAR data from 2023-09-01 to 2023-11-02\n",
      "2025-06-27 01:53:14,181 - scripts.data_acquisition - INFO - Found 28 Sentinel-1 images\n",
      "2025-06-27 01:53:14,184 - scripts.data_acquisition - INFO - Collecting post-earthquake imagery...\n",
      "2025-06-27 01:53:14,185 - scripts.data_acquisition - INFO - Fetching Sentinel-2 data from 2023-11-04 to 2023-12-15\n",
      "2025-06-27 01:53:14,641 - scripts.data_acquisition - INFO - Found 29 Sentinel-2 images\n",
      "2025-06-27 01:53:14,644 - scripts.data_acquisition - INFO - Fetching Landsat data from 2023-11-04 to 2023-12-15\n",
      "2025-06-27 01:53:15,003 - scripts.data_acquisition - INFO - Found 15 Landsat images\n",
      "2025-06-27 01:53:15,005 - scripts.data_acquisition - INFO - Fetching Sentinel-1 SAR data from 2023-11-04 to 2023-12-15\n",
      "2025-06-27 01:53:15,307 - scripts.data_acquisition - INFO - Found 18 Sentinel-1 images\n",
      "2025-06-27 01:53:15,309 - scripts.data_acquisition - INFO - Creating and exporting image composites...\n",
      "2025-06-27 01:53:15,312 - scripts.data_acquisition - INFO - Created AOI with 50km buffer around epicenter\n",
      "2025-06-27 01:53:15,660 - scripts.data_acquisition - INFO - Export task 'sentinel2_pre_earthquake' started. Check Google Drive folder 'earthquake_assessment'\n",
      "2025-06-27 01:53:15,663 - scripts.data_acquisition - INFO - Created AOI with 50km buffer around epicenter\n",
      "2025-06-27 01:53:15,984 - scripts.data_acquisition - INFO - Export task 'sentinel2_post_earthquake' started. Check Google Drive folder 'earthquake_assessment'\n",
      "2025-06-27 01:53:16,204 - scripts.data_acquisition - INFO - Created AOI with 50km buffer around epicenter\n",
      "2025-06-27 01:53:16,677 - scripts.data_acquisition - INFO - Export task 'landsat_pre_earthquake' started. Check Google Drive folder 'earthquake_assessment'\n",
      "2025-06-27 01:53:17,034 - scripts.data_acquisition - INFO - Created AOI with 50km buffer around epicenter\n",
      "2025-06-27 01:53:17,280 - scripts.data_acquisition - INFO - Export task 'landsat_post_earthquake' started. Check Google Drive folder 'earthquake_assessment'\n",
      "2025-06-27 01:53:17,283 - scripts.data_acquisition - INFO - Created AOI with 50km buffer around epicenter\n",
      "2025-06-27 01:53:17,592 - scripts.data_acquisition - INFO - Export task 'sentinel1_pre_earthquake' started. Check Google Drive folder 'earthquake_assessment'\n",
      "2025-06-27 01:53:17,595 - scripts.data_acquisition - INFO - Created AOI with 50km buffer around epicenter\n",
      "2025-06-27 01:53:17,934 - scripts.data_acquisition - INFO - Export task 'sentinel1_post_earthquake' started. Check Google Drive folder 'earthquake_assessment'\n",
      "2025-06-27 01:53:17,952 - scripts.data_acquisition - WARNING - Planet API key not configured. Skipping Planet data.\n",
      "2025-06-27 01:53:17,954 - scripts.data_acquisition - WARNING - Planet API key not configured. Skipping Planet data.\n",
      "2025-06-27 01:53:17,955 - scripts.data_acquisition - INFO - Checking Copernicus EMS for emergency activation maps...\n",
      "2025-06-27 01:53:17,962 - scripts.data_acquisition - INFO - EMS download information saved to data\\ems_maps\\download_info.txt\n",
      "2025-06-27 01:53:17,964 - scripts.data_acquisition - INFO - Downloading OSM building footprints...\n",
      "2025-06-27 01:53:29,739 - scripts.data_acquisition - INFO - OSM data downloaded successfully\n",
      "2025-06-27 01:53:29,740 - scripts.data_acquisition - INFO - Preparing SRTM elevation data...\n",
      "2025-06-27 01:53:29,742 - scripts.data_acquisition - INFO - Created AOI with 50km buffer around epicenter\n",
      "2025-06-27 01:53:29,743 - scripts.data_acquisition - INFO - Created AOI with 50km buffer around epicenter\n",
      "2025-06-27 01:53:30,029 - scripts.data_acquisition - INFO - Export task 'nepal_elevation_slope_aspect' started. Check Google Drive folder 'earthquake_assessment'\n",
      "2025-06-27 01:53:30,032 - scripts.data_acquisition - INFO - Downloading population density data...\n",
      "2025-06-27 01:53:30,034 - scripts.data_acquisition - INFO - Created AOI with 50km buffer around epicenter\n",
      "2025-06-27 01:53:30,035 - scripts.data_acquisition - INFO - Created AOI with 50km buffer around epicenter\n",
      "2025-06-27 01:53:30,292 - scripts.data_acquisition - INFO - Export task 'nepal_population_density_2020' started. Check Google Drive folder 'earthquake_assessment'\n",
      "2025-06-27 01:53:30,414 - scripts.data_acquisition - INFO - Data catalog created at data\\data_catalog.json\n",
      "2025-06-27 01:53:30,416 - scripts.data_acquisition - INFO - Data acquisition pipeline completed successfully!\n",
      "2025-06-27 01:53:30,417 - scripts.data_acquisition - INFO - Check Google Drive for exported imagery\n",
      "2025-06-27 01:53:30,418 - scripts.data_acquisition - INFO - Local data saved to: data\n"
     ]
    }
   ],
   "source": [
    "# Run data acquisition pipeline\n",
    "# Note: This will export data to Google Drive if using Google Earth Engine\n",
    "# Make sure you have authenticated GEE first\n",
    "\n",
    "print(\"Starting data acquisition...\")\n",
    "print(\"This process will:\")\n",
    "print(\"1. Search for cloud-free imagery\")\n",
    "print(\"2. Create composites for pre and post earthquake periods\")\n",
    "print(\"3. Export imagery to Google Drive\")\n",
    "print(\"4. Download ancillary data (OSM, elevation, population)\")\n",
    "print(\"\\nNote: Large exports may take time to process on Google Earth Engine\")\n",
    "\n",
    "# Uncomment to run full acquisition\n",
    "acquisition.run_acquisition_pipeline()"
   ]
  },
  {
   "cell_type": "markdown",
   "id": "a07a0a26",
   "metadata": {},
   "source": [
    "## 4. Image Preprocessing\n",
    "\n",
    "Prepare analysis-ready data through preprocessing steps."
   ]
  },
  {
   "cell_type": "code",
   "execution_count": 26,
   "id": "6d025ae3",
   "metadata": {},
   "outputs": [
    {
     "data": {
      "text/plain": [
       "WindowsPath('data')"
      ]
     },
     "execution_count": 26,
     "metadata": {},
     "output_type": "execute_result"
    }
   ],
   "source": [
    "Path(config['data_dir'])"
   ]
  },
  {
   "cell_type": "code",
   "execution_count": 25,
   "id": "8a29adcc",
   "metadata": {},
   "outputs": [
    {
     "name": "stdout",
     "output_type": "stream",
     "text": [
      "No downloaded images found. Please run data acquisition first.\n"
     ]
    }
   ],
   "source": [
    "# Initialize preprocessor\n",
    "preprocessor = ImagePreprocessor('config.json')\n",
    "\n",
    "# Define paths to downloaded images\n",
    "data_dir = Path(config['data_dir'])\n",
    "downloads_dir = data_dir / 'downloads'\n",
    "\n",
    "# Check available images\n",
    "if downloads_dir.exists():\n",
    "    available_images = list(downloads_dir.glob('*.tif'))\n",
    "    print(f\"Found {len(available_images)} images:\")\n",
    "    for img in available_images:\n",
    "        print(f\"  - {img.name}\")\n",
    "else:\n",
    "    print(\"No downloaded images found. Please run data acquisition first.\")"
   ]
  },
  {
   "cell_type": "code",
   "execution_count": null,
   "id": "72d79e19",
   "metadata": {},
   "outputs": [],
   "source": [
    "# Create analysis-ready data (ARD)\n",
    "# This process includes:\n",
    "# - Co-registration\n",
    "# - Radiometric correction\n",
    "# - Cloud masking\n",
    "# - Clipping to AOI\n",
    "\n",
    "pre_image = downloads_dir / 'sentinel2_pre_earthquake.tif'\n",
    "post_image = downloads_dir / 'sentinel2_post_earthquake.tif'\n",
    "aoi_file = data_dir / 'aoi' / 'affected_districts.geojson'\n",
    "\n",
    "if pre_image.exists() and post_image.exists():\n",
    "    print(\"Creating analysis-ready data...\")\n",
    "    ard = preprocessor.create_analysis_ready_data(\n",
    "        str(pre_image),\n",
    "        str(post_image),\n",
    "        str(aoi_file) if aoi_file.exists() else None\n",
    "    )\n",
    "    \n",
    "    print(\"\\nARD created:\")\n",
    "    print(f\"Pre-earthquake: {ard['pre']}\")\n",
    "    print(f\"Post-earthquake: {ard['post']}\")\n",
    "    print(f\"\\nCloud coverage:\")\n",
    "    print(f\"Pre: {ard['metadata']['pre_cloud_percentage']:.2f}%\")\n",
    "    print(f\"Post: {ard['metadata']['post_cloud_percentage']:.2f}%\")\n",
    "else:\n",
    "    print(\"Required images not found. Using sample data...\")"
   ]
  },
  {
   "cell_type": "markdown",
   "id": "476faf0e",
   "metadata": {},
   "source": [
    "## 5. Damage Analysis\n",
    "\n",
    "Perform comprehensive damage assessment using multiple techniques."
   ]
  },
  {
   "cell_type": "code",
   "execution_count": null,
   "id": "e00bc6e6",
   "metadata": {},
   "outputs": [],
   "source": [
    "# Initialize damage analyzer\n",
    "analyzer = DamageAnalyzer('config.json')\n",
    "\n",
    "# Define input paths\n",
    "processed_dir = data_dir / 'processed' / 'ard'\n",
    "pre_ard = processed_dir / 'pre_ard.tif'\n",
    "post_ard = processed_dir / 'post_ard.tif'\n",
    "\n",
    "# Check if ARD exists\n",
    "if pre_ard.exists() and post_ard.exists():\n",
    "    print(\"Analysis-ready data found!\")\n",
    "    print(\"Running damage analysis...\")\n",
    "    \n",
    "    # Calculate spectral indices\n",
    "    pre_indices, metadata = analyzer.calculate_spectral_indices(str(pre_ard))\n",
    "    post_indices, _ = analyzer.calculate_spectral_indices(str(post_ard))\n",
    "    \n",
    "    # Calculate changes\n",
    "    changes = analyzer.change_detection(pre_indices, post_indices)\n",
    "    \n",
    "    print(\"\\nCalculated indices:\")\n",
    "    for idx in pre_indices.keys():\n",
    "        print(f\"  - {idx}\")\n",
    "    \n",
    "    print(\"\\nChange indices:\")\n",
    "    for idx in changes.keys():\n",
    "        print(f\"  - {idx}\")\n",
    "else:\n",
    "    print(\"ARD not found. Please run preprocessing first.\")"
   ]
  },
  {
   "cell_type": "code",
   "execution_count": null,
   "id": "80755352",
   "metadata": {},
   "outputs": [],
   "source": [
    "# Visualize spectral changes\n",
    "if 'changes' in locals():\n",
    "    fig, axes = plt.subplots(2, 2, figsize=(15, 12))\n",
    "    axes = axes.ravel()\n",
    "    \n",
    "    # Plot key change indices\n",
    "    indices_to_plot = ['dndvi', 'dnbr', 'dndbi', 'dbsi']\n",
    "    \n",
    "    for i, idx in enumerate(indices_to_plot):\n",
    "        if idx in changes:\n",
    "            im = axes[i].imshow(changes[idx], cmap='RdYlGn_r', vmin=-0.5, vmax=0.5)\n",
    "            axes[i].set_title(f'{idx.upper()} Change', fontsize=12)\n",
    "            axes[i].axis('off')\n",
    "            plt.colorbar(im, ax=axes[i], fraction=0.046)\n",
    "    \n",
    "    plt.suptitle('Spectral Index Changes (Post - Pre Earthquake)', fontsize=16)\n",
    "    plt.tight_layout()\n",
    "    plt.show()"
   ]
  },
  {
   "cell_type": "code",
   "execution_count": null,
   "id": "2e786142",
   "metadata": {},
   "outputs": [],
   "source": [
    "# Run comprehensive damage assessment\n",
    "if pre_ard.exists() and post_ard.exists():\n",
    "    print(\"Running comprehensive damage assessment...\")\n",
    "    print(\"This includes:\")\n",
    "    print(\"- Spectral change analysis\")\n",
    "    print(\"- Texture analysis\")\n",
    "    print(\"- Machine learning classification\")\n",
    "    print(\"- Building damage assessment\")\n",
    "    print(\"- Landslide detection\")\n",
    "    \n",
    "    # Additional input files\n",
    "    pre_sar = processed_dir / 'sentinel1_pre_earthquake.tif'\n",
    "    post_sar = processed_dir / 'sentinel1_post_earthquake.tif'\n",
    "    buildings = data_dir / 'ancillary' / 'osm_buildings.geojson'\n",
    "    slope = data_dir / 'ancillary' / 'slope.tif'\n",
    "    \n",
    "    # Run assessment\n",
    "    results = analyzer.comprehensive_damage_assessment(\n",
    "        str(pre_ard),\n",
    "        str(post_ard),\n",
    "        str(pre_sar) if pre_sar.exists() else None,\n",
    "        str(post_sar) if post_sar.exists() else None,\n",
    "        str(buildings) if buildings.exists() else None,\n",
    "        str(slope) if slope.exists() else None\n",
    "    )\n",
    "    \n",
    "    print(\"\\nAssessment complete!\")\n",
    "    print(f\"Results saved to: {analyzer.results_dir}\")\n",
    "    \n",
    "    # Display statistics\n",
    "    if 'statistics' in results:\n",
    "        print(\"\\nDamage Statistics:\")\n",
    "        stats = results['statistics']\n",
    "        if 'damage_distribution' in stats:\n",
    "            for level, data in stats['damage_distribution'].items():\n",
    "                print(f\"  {level}: {data['area_km2']:.2f} km² ({data['percentage']:.1f}%)\")"
   ]
  },
  {
   "cell_type": "markdown",
   "id": "b2e864d0",
   "metadata": {},
   "source": [
    "## 6. Visualization\n",
    "\n",
    "Create various visualizations of the damage assessment results."
   ]
  },
  {
   "cell_type": "code",
   "execution_count": null,
   "id": "48886720",
   "metadata": {},
   "outputs": [],
   "source": [
    "# Initialize visualizer\n",
    "visualizer = DamageVisualizer('config.json')\n",
    "\n",
    "# Create before/after comparison\n",
    "if pre_ard.exists() and post_ard.exists():\n",
    "    print(\"Creating before/after comparison...\")\n",
    "    fig = visualizer.create_before_after_comparison(\n",
    "        str(pre_ard),\n",
    "        str(post_ard)\n",
    "    )\n",
    "    plt.show()"
   ]
  },
  {
   "cell_type": "code",
   "execution_count": null,
   "id": "35d47b8a",
   "metadata": {},
   "outputs": [],
   "source": [
    "# Visualize damage map\n",
    "damage_map_path = analyzer.results_dir / 'damage_classification.tif'\n",
    "\n",
    "if damage_map_path.exists():\n",
    "    print(\"Visualizing damage map...\")\n",
    "    fig = visualizer.visualize_damage_map(str(damage_map_path))\n",
    "    plt.show()"
   ]
  },
  {
   "cell_type": "code",
   "execution_count": null,
   "id": "2b1cb225",
   "metadata": {},
   "outputs": [],
   "source": [
    "# Create interactive map\n",
    "building_damage_path = analyzer.results_dir / 'building_damage_assessment.geojson'\n",
    "\n",
    "if building_damage_path.exists():\n",
    "    print(\"Creating interactive map...\")\n",
    "    interactive_map = visualizer.create_interactive_map(str(building_damage_path))\n",
    "    display(interactive_map)\n",
    "elif damage_map_path.exists():\n",
    "    print(\"Creating interactive map from raster...\")\n",
    "    interactive_map = visualizer.create_interactive_map(str(damage_map_path))\n",
    "    display(interactive_map)"
   ]
  },
  {
   "cell_type": "code",
   "execution_count": null,
   "id": "5b656524",
   "metadata": {},
   "outputs": [],
   "source": [
    "# Plot damage statistics\n",
    "stats_path = analyzer.results_dir / 'damage_assessment_report.json'\n",
    "\n",
    "if stats_path.exists():\n",
    "    print(\"Creating statistical plots...\")\n",
    "    fig = visualizer.plot_damage_statistics(str(stats_path))\n",
    "    plt.show()"
   ]
  },
  {
   "cell_type": "markdown",
   "id": "d5080cdc",
   "metadata": {},
   "source": [
    "## 7. Report Generation\n",
    "\n",
    "Generate comprehensive reports in multiple formats."
   ]
  },
  {
   "cell_type": "code",
   "execution_count": null,
   "id": "27276a24",
   "metadata": {},
   "outputs": [],
   "source": [
    "# Initialize report generator\n",
    "reporter = ReportGenerator('config.json')\n",
    "\n",
    "print(\"Generating reports...\")\n",
    "print(\"This will create:\")\n",
    "print(\"- PDF report\")\n",
    "print(\"- Excel workbook with detailed data\")\n",
    "print(\"- GIS outputs (Shapefile, GeoPackage, KML)\")\n",
    "print(\"- Web-based report\")\n",
    "\n",
    "# Generate all reports\n",
    "reports = reporter.generate_all_reports()\n",
    "\n",
    "print(\"\\nGenerated reports:\")\n",
    "for report_type, path in reports.items():\n",
    "    if isinstance(path, dict):\n",
    "        print(f\"\\n{report_type}:\")\n",
    "        for sub_type, sub_path in path.items():\n",
    "            print(f\"  - {sub_type}: {sub_path}\")\n",
    "    else:\n",
    "        print(f\"{report_type}: {path}\")"
   ]
  },
  {
   "cell_type": "markdown",
   "id": "6e1067de",
   "metadata": {},
   "source": [
    "## 8. GeoAI Integration\n",
    "\n",
    "Demonstrate how to integrate with GeoAI platforms and tools."
   ]
  },
  {
   "cell_type": "code",
   "execution_count": null,
   "id": "0c1e63e3",
   "metadata": {},
   "outputs": [],
   "source": [
    "# GeoAI Integration Examples\n",
    "\n",
    "print(\"GeoAI Integration Options:\")\n",
    "print(\"\\n1. ESRI ArcGIS GeoAI:\")\n",
    "print(\"   - Use pre-trained models from ArcGIS Living Atlas\")\n",
    "print(\"   - Export results as feature services\")\n",
    "print(\"   - Integrate with ArcGIS Pro for advanced analysis\")\n",
    "\n",
    "print(\"\\n2. Google Earth Engine:\")\n",
    "print(\"   - Already integrated for data acquisition\")\n",
    "print(\"   - Can export results back to GEE for further analysis\")\n",
    "\n",
    "print(\"\\n3. Microsoft Planetary Computer:\")\n",
    "print(\"   - Access additional satellite data\")\n",
    "print(\"   - Use Azure ML for scalable processing\")\n",
    "\n",
    "print(\"\\n4. NASA-IBM Prithvi Model:\")\n",
    "print(\"   - Foundation model for geospatial analysis\")\n",
    "print(\"   - Can be fine-tuned for earthquake damage\")\n",
    "\n",
    "# Example: Prepare data for ESRI GeoAI\n",
    "gis_outputs = reports.get('gis', {})\n",
    "if 'shapefile' in gis_outputs:\n",
    "    print(f\"\\nShapefile ready for ArcGIS: {gis_outputs['shapefile']}\")\n",
    "    print(\"To use in ArcGIS Pro:\")\n",
    "    print(\"1. Add shapefile to map\")\n",
    "    print(\"2. Apply damage classification symbology\")\n",
    "    print(\"3. Use Spatial Analyst for hotspot analysis\")\n",
    "    print(\"4. Create StoryMap for public communication\")"
   ]
  },
  {
   "cell_type": "code",
   "execution_count": null,
   "id": "26db6e9f",
   "metadata": {},
   "outputs": [],
   "source": [
    "# Example: Prepare for deep learning with PyTorch\n",
    "print(\"Preparing data for deep learning...\")\n",
    "\n",
    "if damage_map_path.exists():\n",
    "    import rasterio\n",
    "    from torch.utils.data import Dataset, DataLoader\n",
    "    import torch\n",
    "    \n",
    "    class DamageDataset(Dataset):\n",
    "        def __init__(self, pre_path, post_path, damage_path, patch_size=256):\n",
    "            self.pre_path = pre_path\n",
    "            self.post_path = post_path\n",
    "            self.damage_path = damage_path\n",
    "            self.patch_size = patch_size\n",
    "            \n",
    "            # Load metadata\n",
    "            with rasterio.open(damage_path) as src:\n",
    "                self.height = src.height\n",
    "                self.width = src.width\n",
    "        \n",
    "        def __len__(self):\n",
    "            # Number of patches\n",
    "            return (self.height // self.patch_size) * (self.width // self.patch_size)\n",
    "        \n",
    "        def __getitem__(self, idx):\n",
    "            # Get patch coordinates\n",
    "            patches_per_row = self.width // self.patch_size\n",
    "            row = idx // patches_per_row\n",
    "            col = idx % patches_per_row\n",
    "            \n",
    "            # Define window\n",
    "            window = rasterio.windows.Window(\n",
    "                col * self.patch_size,\n",
    "                row * self.patch_size,\n",
    "                self.patch_size,\n",
    "                self.patch_size\n",
    "            )\n",
    "            \n",
    "            # Read patches\n",
    "            with rasterio.open(self.pre_path) as src:\n",
    "                pre_patch = src.read(window=window)\n",
    "            \n",
    "            with rasterio.open(self.post_path) as src:\n",
    "                post_patch = src.read(window=window)\n",
    "            \n",
    "            with rasterio.open(self.damage_path) as src:\n",
    "                damage_patch = src.read(1, window=window)\n",
    "            \n",
    "            # Stack pre and post images\n",
    "            combined = np.concatenate([pre_patch, post_patch], axis=0)\n",
    "            \n",
    "            return {\n",
    "                'image': torch.FloatTensor(combined),\n",
    "                'label': torch.LongTensor(damage_patch)\n",
    "            }\n",
    "    \n",
    "    print(\"Dataset class created for PyTorch training\")\n",
    "    print(\"This can be used to train custom CNN models for damage detection\")"
   ]
  },
  {
   "cell_type": "markdown",
   "id": "dbbcbe97",
   "metadata": {},
   "source": [
    "## 9. Summary and Next Steps"
   ]
  },
  {
   "cell_type": "code",
   "execution_count": null,
   "id": "a83617f7",
   "metadata": {},
   "outputs": [],
   "source": [
    "print(\"=\" * 60)\n",
    "print(\"DAMAGE ASSESSMENT WORKFLOW COMPLETE\")\n",
    "print(\"=\" * 60)\n",
    "\n",
    "print(\"\\nSummary of outputs:\")\n",
    "print(f\"\\n1. Data Directory: {data_dir}\")\n",
    "print(f\"   - Raw imagery: {data_dir / 'downloads'}\")\n",
    "print(f\"   - Processed data: {data_dir / 'processed'}\")\n",
    "print(f\"   - Results: {data_dir / 'results'}\")\n",
    "\n",
    "print(\"\\n2. Key Results:\")\n",
    "if stats_path.exists():\n",
    "    with open(stats_path, 'r') as f:\n",
    "        stats = json.load(f)\n",
    "    \n",
    "    if 'total_area_km2' in stats:\n",
    "        print(f\"   - Total assessed area: {stats['total_area_km2']:.2f} km²\")\n",
    "    \n",
    "    if 'damage_distribution' in stats:\n",
    "        severe = stats['damage_distribution'].get('Severe', {}).get('area_km2', 0)\n",
    "        high = stats['damage_distribution'].get('High', {}).get('area_km2', 0)\n",
    "        print(f\"   - Severe damage: {severe:.2f} km²\")\n",
    "        print(f\"   - High damage: {high:.2f} km²\")\n",
    "\n",
    "print(\"\\n3. Reports Generated:\")\n",
    "if 'reports' in locals():\n",
    "    if 'pdf' in reports:\n",
    "        print(f\"   - PDF Report: {reports['pdf']}\")\n",
    "    if 'excel' in reports:\n",
    "        print(f\"   - Excel Report: {reports['excel']}\")\n",
    "    if 'web' in reports:\n",
    "        print(f\"   - Web Report: {reports['web']}\")\n",
    "\n",
    "print(\"\\n4. Next Steps:\")\n",
    "print(\"   - Share results with disaster response teams\")\n",
    "print(\"   - Validate with ground truth data\")\n",
    "print(\"   - Monitor recovery progress with follow-up imagery\")\n",
    "print(\"   - Integrate with emergency management systems\")\n",
    "print(\"   - Use results for reconstruction planning\")\n",
    "\n",
    "print(\"\\n5. GeoAI Enhancement Options:\")\n",
    "print(\"   - Fine-tune deep learning models with local data\")\n",
    "print(\"   - Integrate with cloud-based GeoAI platforms\")\n",
    "print(\"   - Develop mobile apps for field validation\")\n",
    "print(\"   - Create real-time monitoring systems\")"
   ]
  },
  {
   "cell_type": "markdown",
   "id": "d42fbb41",
   "metadata": {},
   "source": [
    "## Additional Resources\n",
    "\n",
    "### Data Sources\n",
    "- [Google Earth Engine](https://earthengine.google.com/)\n",
    "- [Copernicus Open Access Hub](https://scihub.copernicus.eu/)\n",
    "- [USGS EarthExplorer](https://earthexplorer.usgs.gov/)\n",
    "- [NASA Earthdata](https://earthdata.nasa.gov/)\n",
    "\n",
    "### GeoAI Platforms\n",
    "- [ESRI ArcGIS GeoAI](https://www.esri.com/en-us/capabilities/geoai/overview)\n",
    "- [Microsoft Planetary Computer](https://planetarycomputer.microsoft.com/)\n",
    "- [Google Earth Engine](https://earthengine.google.com/)\n",
    "- [NASA-IBM Prithvi](https://huggingface.co/ibm-nasa-geospatial)\n",
    "- [Picterra](https://picterra.ch/)\n",
    "- [Orbital Insight](https://orbitalinsight.com/)\n",
    "\n",
    "### Documentation\n",
    "- [Sentinel-2 User Guide](https://sentinel.esa.int/web/sentinel/user-guides/sentinel-2-msi)\n",
    "- [USGS Landsat Documentation](https://www.usgs.gov/landsat-missions/landsat-collection-2)\n",
    "- [UN-SPIDER Knowledge Portal](https://www.un-spider.org/)\n",
    "- [Copernicus Emergency Management Service](https://emergency.copernicus.eu/)\n",
    "\n",
    "### Research Papers\n",
    "- Geospatial AI for Disaster Response\n",
    "- Deep Learning for Building Damage Assessment\n",
    "- SAR Coherence Analysis for Earthquake Damage\n",
    "- Multi-temporal Change Detection Methods"
   ]
  }
 ],
 "metadata": {
  "kernelspec": {
   "display_name": "capexdx",
   "language": "python",
   "name": "python3"
  },
  "language_info": {
   "codemirror_mode": {
    "name": "ipython",
    "version": 3
   },
   "file_extension": ".py",
   "mimetype": "text/x-python",
   "name": "python",
   "nbconvert_exporter": "python",
   "pygments_lexer": "ipython3",
   "version": "3.9.21"
  }
 },
 "nbformat": 4,
 "nbformat_minor": 5
}
